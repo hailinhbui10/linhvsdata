{
 "cells": [
  {
   "cell_type": "code",
   "execution_count": 3,
   "metadata": {},
   "outputs": [
    {
     "name": "stdout",
     "output_type": "stream",
     "text": [
      "^C\n",
      "Requirement already satisfied: chatterbot_corpus in c:\\users\\buhal\\lib\\site-packages (1.2.0)\n",
      "Requirement already satisfied: PyYAML<4.0,>=3.12 in c:\\users\\buhal\\lib\\site-packages (from chatterbot_corpus) (3.13)\n"
     ]
    }
   ],
   "source": [
    "## Imports\n",
    "!pip install chatterbot\n",
    "!pip install chatterbot_corpus"
   ]
  },
  {
   "cell_type": "code",
   "execution_count": null,
   "metadata": {},
   "outputs": [],
   "source": [
    "# Importing chatterbot\n",
    "from chatterbot import ChatBot"
   ]
  },
  {
   "cell_type": "code",
   "execution_count": null,
   "metadata": {},
   "outputs": [],
   "source": [
    "# Create object of ChatBot class\n",
    "bot = ChatBot('Buddy')"
   ]
  },
  {
   "cell_type": "code",
   "execution_count": null,
   "metadata": {},
   "outputs": [],
   "source": [
    "# Create object of ChatBot class with Storage Adapter\n",
    "bot = ChatBot(\n",
    "    'Buddy',\n",
    "    storage_adapter='chatterbot.storage.SQLStorageAdapter',\n",
    "    database_uri='sqlite:///database.sqlite3'\n",
    ")"
   ]
  },
  {
   "cell_type": "code",
   "execution_count": null,
   "metadata": {},
   "outputs": [],
   "source": [
    "# Inport ListTrainer\n",
    "from chatterbot.trainers import ListTrainer\n",
    "\n",
    "trainer = ListTrainer(bot)\n",
    "\n",
    "trainer.train([\n",
    "'Hi',\n",
    "'Hello',\n",
    "'I need your assistance regarding my order',\n",
    "'Please, Provide me with your order id',\n",
    "'I have a complaint.',\n",
    "'Please elaborate, your concern',\n",
    "'How long it will take to receive an order ?',\n",
    "'An order takes 3-5 Business days to get delivered.',\n",
    "'Okay Thanks',\n",
    "'No Problem! Have a Good Day!'\n",
    "])"
   ]
  },
  {
   "cell_type": "code",
   "execution_count": null,
   "metadata": {},
   "outputs": [],
   "source": [
    "# Get a response to the input text 'I would like to book a flight.'\n",
    "response = bot.get_response('I have a complaint.')\n",
    "\n",
    "print(\"Bot Response:\", response)"
   ]
  },
  {
   "cell_type": "code",
   "execution_count": null,
   "metadata": {},
   "outputs": [],
   "source": [
    "name=input(\"Enter Your Name: \")\n",
    "print(\"Welcome to the Bot Service! Let me know how can I help you?\")\n",
    "while True:\n",
    "    request=input(name+':')\n",
    "    if request=='Bye' or request =='bye':\n",
    "        print('Bot: Bye')\n",
    "        break\n",
    "    else:\n",
    "        response=bot.get_response(request)\n",
    "        print('Bot:',response)"
   ]
  }
 ],
 "metadata": {
  "interpreter": {
   "hash": "192662c1c2888ba553fd53272cd9645436cff65e77de8d6f0a732ab9669772bf"
  },
  "kernelspec": {
   "display_name": "Python 3.9.9 64-bit",
   "language": "python",
   "name": "python3"
  },
  "language_info": {
   "codemirror_mode": {
    "name": "ipython",
    "version": 3
   },
   "file_extension": ".py",
   "mimetype": "text/x-python",
   "name": "python",
   "nbconvert_exporter": "python",
   "pygments_lexer": "ipython3",
   "version": "3.9.9"
  },
  "orig_nbformat": 4
 },
 "nbformat": 4,
 "nbformat_minor": 2
}
